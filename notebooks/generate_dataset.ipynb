{
 "cells": [
  {
   "cell_type": "code",
   "execution_count": 9,
   "metadata": {},
   "outputs": [],
   "source": [
    "from PIL import Image, ImageFilter\n",
    "import random"
   ]
  },
  {
   "cell_type": "code",
   "execution_count": 12,
   "metadata": {},
   "outputs": [
    {
     "name": "stdout",
     "output_type": "stream",
     "text": [
      "['1', '4', '3', '2', '5']\n"
     ]
    }
   ],
   "source": [
    "from os import listdir\n",
    "from os.path import isdir\n",
    "\n",
    "path = '../Dataset'\n",
    "number_of_drops = len(listdir(path))\n",
    "drops = listdir(path)\n",
    "print(listdir(path))"
   ]
  },
  {
   "cell_type": "code",
   "execution_count": 30,
   "metadata": {},
   "outputs": [],
   "source": [
    "# find Dataset -name .DS_Store -delete\n",
    "\n",
    "drop_path = '../Dataset/' + drops[0]\n",
    "number_of_zooms = len(listdir(drop_path)) - 1\n",
    "zooms = listdir(drop_path)\n",
    "# print(listdir(drop_path))\n",
    "for i in range(number_of_zooms + 1):\n",
    "    if zooms[i] != 'loft':\n",
    "        # print(|zooms[i])\n",
    "        pic_path = '../Dataset/' + drops[0] + '/' + zooms[i] + '/'\n",
    "        pic = listdir(pic_path)\n",
    "        # print(pic[0])\n",
    "        for j in range(10, 50):\n",
    "            img = Image.open('../Dataset/' + drops[0] + '/' + zooms[i] + '/' + zooms[i][2] + '.png')\n",
    "            # Поворот\n",
    "            if random.randrange(1, 3) % 2 == 0:\n",
    "                img = img.rotate(random.randint(-30, 30))\n",
    "            # Смещение\n",
    "            if random.randrange(1, 3) % 2 == 0:\n",
    "                img = img.rotate(0, translate=(random.randint(0, 30), random.randint(0, 30)))\n",
    "            # Размытие\n",
    "            if random.randrange(1, 3) % 2 == 0:\n",
    "                img = img.filter(ImageFilter.GaussianBlur(random.randint(0, 1))) # 1-2\n",
    "            img.save('../Dataset/' + drops[0] + '/' + zooms[i] + '/' + pic[0][0] + '_' + str(j+1) + '.png', quality=100)"
   ]
  },
  {
   "cell_type": "code",
   "execution_count": null,
   "metadata": {},
   "outputs": [],
   "source": []
  }
 ],
 "metadata": {
  "kernelspec": {
   "display_name": "pytorch_m1",
   "language": "python",
   "name": "python3"
  },
  "language_info": {
   "codemirror_mode": {
    "name": "ipython",
    "version": 3
   },
   "file_extension": ".py",
   "mimetype": "text/x-python",
   "name": "python",
   "nbconvert_exporter": "python",
   "pygments_lexer": "ipython3",
   "version": "3.8.16"
  }
 },
 "nbformat": 4,
 "nbformat_minor": 2
}
