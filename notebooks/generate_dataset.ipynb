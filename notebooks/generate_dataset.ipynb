{
 "cells": [
  {
   "cell_type": "code",
   "execution_count": 1,
   "metadata": {},
   "outputs": [],
   "source": [
    "from PIL import Image, ImageFilter\n",
    "import random"
   ]
  },
  {
   "cell_type": "code",
   "execution_count": 3,
   "metadata": {},
   "outputs": [
    {
     "name": "stdout",
     "output_type": "stream",
     "text": [
      "['1', '4', '3', '2', '5']\n"
     ]
    }
   ],
   "source": [
    "from os import listdir\n",
    "from os.path import isdir\n",
    "\n",
    "path = '../Dataset'\n",
    "number_of_drops = len(listdir(path))\n",
    "drops = listdir(path)\n",
    "print(listdir(path))"
   ]
  },
  {
   "cell_type": "code",
   "execution_count": 30,
   "metadata": {},
   "outputs": [],
   "source": [
    "# find Dataset -name .DS_Store -delete\n",
    "\n",
    "drop_path = '../Dataset/' + drops[0]\n",
    "number_of_zooms = len(listdir(drop_path)) - 1\n",
    "zooms = listdir(drop_path)\n",
    "# print(listdir(drop_path))\n",
    "for i in range(number_of_zooms + 1):\n",
    "    if zooms[i] != 'loft':\n",
    "        # print(|zooms[i])\n",
    "        pic_path = '../Dataset/' + drops[0] + '/' + zooms[i] + '/'\n",
    "        pic = listdir(pic_path)\n",
    "        # print(pic[0])\n",
    "        for j in range(10, 50):\n",
    "            img = Image.open('../Dataset/' + drops[0] + '/' + zooms[i] + '/' + zooms[i][2] + '.png')\n",
    "            # Поворот\n",
    "            if random.randrange(1, 3) % 2 == 0:\n",
    "                img = img.rotate(random.randint(-30, 30))\n",
    "            # Смещение\n",
    "            if random.randrange(1, 3) % 2 == 0:\n",
    "                img = img.rotate(0, translate=(random.randint(0, 30), random.randint(0, 30)))\n",
    "            # Размытие\n",
    "            if random.randrange(1, 3) % 2 == 0:\n",
    "                img = img.filter(ImageFilter.GaussianBlur(random.randint(0, 1))) # 1-2\n",
    "            img.save('../Dataset/' + drops[0] + '/' + zooms[i] + '/' + pic[0][0] + '_' + str(j+1) + '.png', quality=100)"
   ]
  },
  {
   "cell_type": "code",
   "execution_count": 32,
   "metadata": {},
   "outputs": [
    {
     "name": "stdout",
     "output_type": "stream",
     "text": [
      "1.PNG\n"
     ]
    }
   ],
   "source": [
    "drop_path = '../Dataset/' + drops[-1]\n",
    "number_of_zooms = len(listdir(drop_path)) - 1\n",
    "zooms = listdir(drop_path)\n",
    "\n",
    "pic_path = '../Dataset/3/'\n",
    "pic = listdir(pic_path)\n",
    "print(pic[-1])\n",
    "\n",
    "img = Image.open('../Dataset/3/1.PNG')\n",
    "# img.rotate(random.randint(-30, 30)).show()\n",
    "# img.rotate(0, translate=(random.randint(0, 30), random.randint(0, 30))).show()\n",
    "img.filter(ImageFilter.GaussianBlur(random.randint(2, 4))).show()"
   ]
  },
  {
   "cell_type": "code",
   "execution_count": 58,
   "metadata": {},
   "outputs": [
    {
     "data": {
      "image/png": "[encoded data removed]",
      "text/plain": [
       "<Figure size 640x480 with 1 Axes>"
      ]
     },
     "metadata": {},
     "output_type": "display_data"
    }
   ],
   "source": [
    "from matplotlib import pyplot as plt  \n",
    "\n",
    "#drawing simple plot  \n",
    "plt.plot([1, 2, 3, 4],[22, 56, 120, 450], c='black', alpha=0.3)\n",
    "plt.scatter([1, 2, 3, 4],[22, 56, 120, 450], marker='s', s=200, c='orange')\n",
    "plt.grid()\n",
    "#showing the plot \n",
    "# plt.xlim(1, 4)\n",
    "plt.ylim(0, 500)\n",
    "plt.ylabel(\"Кол-во совпадений, шт\")\n",
    "plt.xlabel(\"Этап сближения\")\n",
    "plt.xticks([1, 2, 3 ,4])\n",
    "\n",
    "plt.show()\n",
    "\n"
   ]
  },
  {
   "cell_type": "code",
   "execution_count": null,
   "metadata": {},
   "outputs": [],
   "source": []
  }
 ],
 "metadata": {
  "kernelspec": {
   "display_name": "pytorch_m1",
   "language": "python",
   "name": "python3"
  },
  "language_info": {
   "codemirror_mode": {
    "name": "ipython",
    "version": 3
   },
   "file_extension": ".py",
   "mimetype": "text/x-python",
   "name": "python",
   "nbconvert_exporter": "python",
   "pygments_lexer": "ipython3",
   "version": "3.8.16"
  }
 },
 "nbformat": 4,
 "nbformat_minor": 2
}
