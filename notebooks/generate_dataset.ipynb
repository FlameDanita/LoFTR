{
 "cells": [
  {
   "cell_type": "code",
   "execution_count": 9,
   "metadata": {},
   "outputs": [],
   "source": [
    "from PIL import Image, ImageFilter\n",
    "import random"
   ]
  },
  {
   "cell_type": "code",
   "execution_count": 12,
   "metadata": {},
   "outputs": [
    {
     "name": "stdout",
     "output_type": "stream",
     "text": [
      "['1', '4', '3', '2', '5']\n"
     ]
    }
   ],
   "source": [
    "from os import listdir\n",
    "from os.path import isdir\n",
    "\n",
    "path = '../Dataset'\n",
    "number_of_drops = len(listdir(path))\n",
    "drops = listdir(path)\n",
    "print(listdir(path))"
   ]
  },
  {
   "cell_type": "code",
   "execution_count": 13,
   "metadata": {},
   "outputs": [
    {
     "ename": "NotADirectoryError",
     "evalue": "[Errno 20] Not a directory: '../Dataset/1/.DS_Store/'",
     "output_type": "error",
     "traceback": [
      "\u001b[0;31m---------------------------------------------------------------------------\u001b[0m",
      "\u001b[0;31mNotADirectoryError\u001b[0m                        Traceback (most recent call last)",
      "Cell \u001b[0;32mIn[13], line 9\u001b[0m\n\u001b[1;32m      6\u001b[0m \u001b[38;5;28;01mif\u001b[39;00m zooms[i] \u001b[38;5;241m!=\u001b[39m \u001b[38;5;124m'\u001b[39m\u001b[38;5;124mloft\u001b[39m\u001b[38;5;124m'\u001b[39m:\n\u001b[1;32m      7\u001b[0m     \u001b[38;5;66;03m# print(|zooms[i])\u001b[39;00m\n\u001b[1;32m      8\u001b[0m     pic_path \u001b[38;5;241m=\u001b[39m \u001b[38;5;124m'\u001b[39m\u001b[38;5;124m../Dataset/\u001b[39m\u001b[38;5;124m'\u001b[39m \u001b[38;5;241m+\u001b[39m drops[\u001b[38;5;241m0\u001b[39m] \u001b[38;5;241m+\u001b[39m \u001b[38;5;124m'\u001b[39m\u001b[38;5;124m/\u001b[39m\u001b[38;5;124m'\u001b[39m \u001b[38;5;241m+\u001b[39m zooms[i] \u001b[38;5;241m+\u001b[39m \u001b[38;5;124m'\u001b[39m\u001b[38;5;124m/\u001b[39m\u001b[38;5;124m'\u001b[39m\n\u001b[0;32m----> 9\u001b[0m     pic \u001b[38;5;241m=\u001b[39m \u001b[43mlistdir\u001b[49m\u001b[43m(\u001b[49m\u001b[43mpic_path\u001b[49m\u001b[43m)\u001b[49m\n\u001b[1;32m     10\u001b[0m     \u001b[38;5;28mprint\u001b[39m(pic[\u001b[38;5;241m0\u001b[39m])\n\u001b[1;32m     11\u001b[0m     img \u001b[38;5;241m=\u001b[39m Image\u001b[38;5;241m.\u001b[39mopen(\u001b[38;5;124m'\u001b[39m\u001b[38;5;124m../Dataset/\u001b[39m\u001b[38;5;124m'\u001b[39m \u001b[38;5;241m+\u001b[39m drops[\u001b[38;5;241m0\u001b[39m] \u001b[38;5;241m+\u001b[39m \u001b[38;5;124m'\u001b[39m\u001b[38;5;124m/\u001b[39m\u001b[38;5;124m'\u001b[39m \u001b[38;5;241m+\u001b[39m zooms[i] \u001b[38;5;241m+\u001b[39m \u001b[38;5;124m'\u001b[39m\u001b[38;5;124m/\u001b[39m\u001b[38;5;124m'\u001b[39m \u001b[38;5;241m+\u001b[39m pic[\u001b[38;5;241m0\u001b[39m])\n",
      "\u001b[0;31mNotADirectoryError\u001b[0m: [Errno 20] Not a directory: '../Dataset/1/.DS_Store/'"
     ]
    }
   ],
   "source": [
    "drop_path = '../Dataset/' + drops[0]\n",
    "number_of_zooms = len(listdir(drop_path)) - 1\n",
    "zooms = listdir(drop_path)\n",
    "# print(listdir(drop_path))\n",
    "for i in range(number_of_zooms + 1):\n",
    "    if zooms[i] != 'loft':\n",
    "        # print(|zooms[i])\n",
    "        pic_path = '../Dataset/' + drops[0] + '/' + zooms[i] + '/'\n",
    "        pic = listdir(pic_path)\n",
    "        print(pic[0])\n",
    "        img = Image.open('../Dataset/' + drops[0] + '/' + zooms[i] + '/' + pic[0])\n",
    "        for j in range(10):\n",
    "            # Поворот\n",
    "            if random.randrange(1, 3) % 2 == 0:\n",
    "                img = img.rotate(random.randint(-30, 30))\n",
    "            # Смещение\n",
    "            if random.randrange(1, 3) % 2 == 0:\n",
    "                img = img.rotate(0, translate=(random.randint(0, 10), random.randint(0, 10)))\n",
    "            # Размытие\n",
    "            if random.randrange(1, 3) % 2 == 0:\n",
    "                img = img.filter(ImageFilter.GaussianBlur(random.randint(0, 1))) # 1-2\n",
    "            img.save('../Dataset/' + drops[0] + '/' + zooms[i] + '/' + pic[0][0] + '_' + str(j+1) + '.png', quality=100)"
   ]
  },
  {
   "cell_type": "code",
   "execution_count": 23,
   "metadata": {},
   "outputs": [],
   "source": [
    "# 1. Поворот\n",
    "im = Image.open('../Dataset/1/1.1/1.PNG')\n",
    " \n",
    "im_rotate = im.rotate(90)\n",
    "im_rotate.save('../Dataset/1/1.1/1_1.PNG', quality=100)\n",
    "im.close()"
   ]
  },
  {
   "cell_type": "code",
   "execution_count": 24,
   "metadata": {},
   "outputs": [],
   "source": [
    "# Смещение\n",
    "im = Image.open('../Dataset/1/1.1/1.PNG')\n",
    " \n",
    "im_rotate = im.rotate(0, translate=(100, 50))\n",
    "im_rotate.save('../Dataset/1/1.1/1_2.PNG', quality=100)\n",
    "im.close()"
   ]
  },
  {
   "cell_type": "code",
   "execution_count": 33,
   "metadata": {},
   "outputs": [],
   "source": [
    "# Размытие\n",
    "from PIL import Image, ImageFilter\n",
    "filename = '../Dataset/1/1.1/1.PNG'\n",
    "with Image.open(filename) as img:\n",
    "    img.load()\n",
    "\n",
    "blur_img = img.filter(ImageFilter.GaussianBlur(2)) # 1-5\n",
    "blur_img.save('../Dataset/1/1.1/1_3.PNG', quality=100)"
   ]
  },
  {
   "cell_type": "code",
   "execution_count": null,
   "metadata": {},
   "outputs": [],
   "source": []
  }
 ],
 "metadata": {
  "kernelspec": {
   "display_name": "pytorch_m1",
   "language": "python",
   "name": "python3"
  },
  "language_info": {
   "codemirror_mode": {
    "name": "ipython",
    "version": 3
   },
   "file_extension": ".py",
   "mimetype": "text/x-python",
   "name": "python",
   "nbconvert_exporter": "python",
   "pygments_lexer": "ipython3",
   "version": "3.8.16"
  }
 },
 "nbformat": 4,
 "nbformat_minor": 2
}
